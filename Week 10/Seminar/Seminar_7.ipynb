{
 "cells": [
  {
   "cell_type": "markdown",
   "metadata": {
    "id": "yOPsTsfZ32-8"
   },
   "source": [
    "## Решающие деревья"
   ]
  },
  {
   "cell_type": "markdown",
   "metadata": {
    "id": "V9e-eYqa32_D"
   },
   "source": [
    "Это логический алгоритм классификации, решающий задачи классификации и регрессии. Данный алгоритм представляет собой объединение логических условий в структуру дерева.\n",
    "\n",
    "В зависимости от пространственной структуры данных, один типов моделей из них будет работать лучше:\n",
    "\n",
    "* Если данные хорошо линейно разделимы,  то линейная модель;\n",
    "* Если данные линейно неразделимы (присутствуют только кусочно-линейные или нелинейные зависимости), то решающие деревья.\n",
    "\n",
    "\n",
    "### План семинара:\n",
    "\n",
    "1. [Задачи](#tasks)\n",
    "2. [Дерево решений](#decisiontree)\n",
    "3. [Переобучение](#overfitting)\n",
    "4. [Неустойчивость](#unstable)\n",
    "5. [Пример на датасете](#dataset)"
   ]
  },
  {
   "cell_type": "markdown",
   "metadata": {
    "id": "tt5Qd2uj32_H"
   },
   "source": [
    "### Задачи <a name=\"tasks\"></a>\n",
    "\n",
    "\n",
    "**Задача 1**. Постройте регрессионное дерево для прогнозирования $y$ с помощью $x$ на обучающей выборке:\n",
    "\n",
    "||||||\n",
    "|---|---|---|---|:---:|\n",
    "|$x_i$|0|1|2|3|\n",
    "|$y_i$|5|6|4|100|\n",
    "\n",
    "\n",
    "Критерий деления узла на два — минимизация $RSS$. Дерево строится до трёх терминальных узлов.\n",
    "\n",
    "\n",
    "**Задача 2**. Постройте регрессионное дерево для прогнозирования $y$ с помощью $x$ на обучающей выборке:\n",
    "\n",
    "    \n",
    "|$$y_{i}$$| $$x_{i}$$ |\n",
    "|:---:|:---:|\n",
    "|100|1|\n",
    "|102|2|\n",
    "|103|3|\n",
    "|50|4|\n",
    "|55|5|\n",
    "|61|6|\n",
    "|70|7|\n",
    "\n",
    "Критерий деления узла на два — минимизация $RSS$. Узлы делятся до тех пор, пока в узле остаётся больше двух наблюдений.\n",
    "\n",
    "\n",
    "**Задача 3**.\n",
    "\n",
    "Дон-Жуан предпочитает брюнеток. Перед Новым Годом он посчитал, что в записной книжке у него 20 блондинок, 40 брюнеток, две рыжих и восемь шатенок. С Нового Года Дон-Жуан решил перенести все сведения в две записные книжки, в одну — брюнеток, во вторую — остальных.\n",
    "\n",
    "Как изменились индекс Джини и энтропия в результате такого разбиения?\n",
    "\n",
    "\n",
    "\n",
    "**Задача 4**.\n",
    "\n",
    "Приведите примеры наборов данных, для которых индекс Джини равен $0$, $0.5$ и $0.999$.\n",
    "\n",
    "**Задача 5**.\n",
    "\n",
    "Машка пять дней подряд гадала на ромашке, а затем выкладывала очередную фотку «Машка с ромашкой» в инстаграмчик. Результат гадания — переменная $y_i$, количество лайков у фотки — переменная $x_i$. Постройте классификационное дерево для прогнозирования $y_i$ с помощью $x_i$ на обучающей выборке:\n",
    "\n",
    "|$$y_{i}$$| $$x_{i}$$ |\n",
    "|:---:|:---:|\n",
    "|плюнет|10|\n",
    "|поцелует|11|\n",
    "|поцелует|12|\n",
    "|к сердцу прижмет|13|\n",
    "|к сердцу прижмет|14|\n",
    "\n",
    "Дерево строится до идеальной классификации. Критерий деления узла на два — максимальное падение индекса Джини."
   ]
  },
  {
   "cell_type": "code",
   "execution_count": null,
   "metadata": {
    "executionInfo": {
     "elapsed": 1327,
     "status": "ok",
     "timestamp": 1699265399831,
     "user": {
      "displayName": "Sergey Korpachev",
      "userId": "09181340988160569540"
     },
     "user_tz": -180
    },
    "id": "iMMMdaYH32_J"
   },
   "outputs": [],
   "source": [
    "import matplotlib.pyplot as plt\n",
    "%matplotlib inline\n",
    "from mlxtend.plotting import plot_decision_regions\n",
    "import numpy as np\n",
    "#from sklearn.datasets import load_boston\n",
    "from sklearn.linear_model import LogisticRegression\n",
    "from sklearn.metrics import accuracy_score, mean_squared_error\n",
    "from sklearn.model_selection import train_test_split\n",
    "from sklearn.tree import DecisionTreeClassifier, DecisionTreeRegressor, plot_tree\n",
    "import pandas as pd\n",
    "\n",
    "plt.rcParams[\"figure.figsize\"] = (11, 6.5)"
   ]
  },
  {
   "cell_type": "markdown",
   "metadata": {
    "id": "Yxj8crjl32_M"
   },
   "source": [
    "### Дерево решений  <a name=\"decisiontree\"></a>\n"
   ]
  },
  {
   "cell_type": "markdown",
   "metadata": {
    "id": "lTJ-yr2W32_M"
   },
   "source": [
    "Давайте сгенерируем пример линейно разделимой выборки для задачи бинарной классификации:"
   ]
  },
  {
   "cell_type": "code",
   "execution_count": null,
   "metadata": {
    "colab": {
     "base_uri": "https://localhost:8080/",
     "height": 581
    },
    "executionInfo": {
     "elapsed": 9,
     "status": "ok",
     "timestamp": 1699265399831,
     "user": {
      "displayName": "Sergey Korpachev",
      "userId": "09181340988160569540"
     },
     "user_tz": -180
    },
    "id": "_2uM97lr32_O",
    "outputId": "0f0d6d84-696b-479a-81ef-a6a85ed652da"
   },
   "outputs": [],
   "source": [
    "n = 400\n",
    "np.random.seed(1)\n",
    "X = np.zeros((n, 2))\n",
    "X[:, 0] = np.linspace(-5, 5, n)\n",
    "X[:, 1] = X[:, 0] + 0.5 * np.random.normal(size=n)\n",
    "y = (X[:, 1] > X[:, 0]).astype(int)\n",
    "\n",
    "plt.scatter(X[:, 0], X[:, 1], s=100, c=y, cmap='bwr')\n",
    "plt.show()"
   ]
  },
  {
   "cell_type": "markdown",
   "metadata": {
    "id": "vqu3w3aY32_S"
   },
   "source": [
    "Для удобства, напишем функцию для обучения классификатора и построения графика с разделяющей прямой."
   ]
  },
  {
   "cell_type": "code",
   "execution_count": null,
   "metadata": {
    "executionInfo": {
     "elapsed": 7,
     "status": "ok",
     "timestamp": 1699265399832,
     "user": {
      "displayName": "Sergey Korpachev",
      "userId": "09181340988160569540"
     },
     "user_tz": -180
    },
    "id": "JiUDahrl32_T"
   },
   "outputs": [],
   "source": [
    "def train_model(model=LogisticRegression()):\n",
    "\n",
    "    X_train, X_test, y_train, y_test = train_test_split(X, y, test_size=0.25, random_state=13)\n",
    "    model.fit(X_train, y_train)\n",
    "    y_pred = model.predict(X_test)\n",
    "    plot_decision_regions(X_test, y_test, model)\n",
    "    plt.show()\n",
    "\n",
    "    print(f\"Accuracy: {accuracy_score(y_pred, y_test):.2f}\")"
   ]
  },
  {
   "cell_type": "code",
   "execution_count": null,
   "metadata": {
    "colab": {
     "base_uri": "https://localhost:8080/",
     "height": 599
    },
    "executionInfo": {
     "elapsed": 476,
     "status": "ok",
     "timestamp": 1699265400302,
     "user": {
      "displayName": "Sergey Korpachev",
      "userId": "09181340988160569540"
     },
     "user_tz": -180
    },
    "id": "UE6SIMBk32_U",
    "outputId": "3aecacfc-40d3-4f30-a2ab-72034e3ba23e"
   },
   "outputs": [],
   "source": [
    "train_model(LogisticRegression())"
   ]
  },
  {
   "cell_type": "markdown",
   "metadata": {
    "id": "cdci_2Qs32_W"
   },
   "source": [
    "Сравним качество, так ли хорошо получится решить эту задачу не логитической регрессией, а деревом решений на линейно разделимой выборке?"
   ]
  },
  {
   "cell_type": "code",
   "execution_count": null,
   "metadata": {
    "colab": {
     "base_uri": "https://localhost:8080/",
     "height": 599
    },
    "executionInfo": {
     "elapsed": 585,
     "status": "ok",
     "timestamp": 1699265400883,
     "user": {
      "displayName": "Sergey Korpachev",
      "userId": "09181340988160569540"
     },
     "user_tz": -180
    },
    "id": "c0B1Z2oQ32_X",
    "outputId": "16675ca6-679f-483f-b75b-2d0eeb7da178"
   },
   "outputs": [],
   "source": [
    "train_model(DecisionTreeClassifier(random_state=13))"
   ]
  },
  {
   "cell_type": "markdown",
   "metadata": {
    "id": "CrQX5vb032_Y"
   },
   "source": [
    "Давайте вспомним, что такое логическое исключающее ИЛИ, и сгенерируем пример выборки."
   ]
  },
  {
   "cell_type": "code",
   "execution_count": null,
   "metadata": {
    "colab": {
     "base_uri": "https://localhost:8080/",
     "height": 581
    },
    "executionInfo": {
     "elapsed": 720,
     "status": "ok",
     "timestamp": 1699265401599,
     "user": {
      "displayName": "Sergey Korpachev",
      "userId": "09181340988160569540"
     },
     "user_tz": -180
    },
    "id": "pvOtWmmR32_Y",
    "outputId": "a59249fd-51d5-4db6-f1f7-089dc5083554"
   },
   "outputs": [],
   "source": [
    "X = np.random.randn(n, 2)\n",
    "y = np.logical_xor(X[:, 0] > 0, X[:, 1] > 0).astype(int)\n",
    "plt.scatter(X[:, 0], X[:, 1], s=100, c=y, cmap=\"bwr\")\n",
    "plt.show()"
   ]
  },
  {
   "cell_type": "code",
   "execution_count": null,
   "metadata": {
    "colab": {
     "base_uri": "https://localhost:8080/",
     "height": 599
    },
    "executionInfo": {
     "elapsed": 772,
     "status": "ok",
     "timestamp": 1699265402366,
     "user": {
      "displayName": "Sergey Korpachev",
      "userId": "09181340988160569540"
     },
     "user_tz": -180
    },
    "id": "T-H6fqZ_32_Z",
    "outputId": "d2144c58-c3e1-4694-e75d-1cb4e58d0427"
   },
   "outputs": [],
   "source": [
    "train_model(LogisticRegression())"
   ]
  },
  {
   "cell_type": "code",
   "execution_count": null,
   "metadata": {
    "colab": {
     "base_uri": "https://localhost:8080/",
     "height": 599
    },
    "executionInfo": {
     "elapsed": 11,
     "status": "ok",
     "timestamp": 1699265402367,
     "user": {
      "displayName": "Sergey Korpachev",
      "userId": "09181340988160569540"
     },
     "user_tz": -180
    },
    "id": "W425yjA632_a",
    "outputId": "7a2cf05b-ea00-4e64-f41c-dfe0315c5a96"
   },
   "outputs": [],
   "source": [
    "train_model(DecisionTreeClassifier())"
   ]
  },
  {
   "cell_type": "markdown",
   "metadata": {
    "id": "jZ_LDnFQ32_b"
   },
   "source": [
    "### Переобучение <a name=\"overfitting\"></a>"
   ]
  },
  {
   "cell_type": "markdown",
   "metadata": {
    "id": "6zeC1aoI32_b"
   },
   "source": [
    "Решающие деревья могут переобучаться под любую выборку, если их не регуляризовать: при большом количестве листьев для каждого объекта может выделиться своя область в признаковом пространстве. Дерево просто выучивает обучающую выборку, но не выделяет закономерности в данных. Давайте убедимся в этом на практике."
   ]
  },
  {
   "cell_type": "code",
   "execution_count": null,
   "metadata": {
    "colab": {
     "base_uri": "https://localhost:8080/",
     "height": 581
    },
    "executionInfo": {
     "elapsed": 9,
     "status": "ok",
     "timestamp": 1699265402367,
     "user": {
      "displayName": "Sergey Korpachev",
      "userId": "09181340988160569540"
     },
     "user_tz": -180
    },
    "id": "__d_B80U32_c",
    "outputId": "00102bb3-59ca-4c0c-b983-60a62ff0ceb4"
   },
   "outputs": [],
   "source": [
    "np.random.seed(13)\n",
    "n = 100\n",
    "X = np.random.normal(size=(n, 2))\n",
    "X[:50, :] += 0.25\n",
    "X[50:, :] -= 0.25\n",
    "y = np.array([1] * 50 + [0] * 50)\n",
    "plt.scatter(X[:, 0], X[:, 1], s=100, c=y, cmap=\"bwr\")\n",
    "plt.show()"
   ]
  },
  {
   "cell_type": "markdown",
   "metadata": {
    "id": "nRO6WyQF32_d"
   },
   "source": [
    "Проверим, как разные значения гиперпараметров решающего дерева влияют на его структуру:\n",
    "\n",
    "- `max_depth`: максимальная глубина дерева\n",
    "- `min_samples_leaf`: минимальное число объектов в вершине дерева, необходимое для того, чтобы она стала листом"
   ]
  },
  {
   "cell_type": "code",
   "execution_count": null,
   "metadata": {
    "colab": {
     "base_uri": "https://localhost:8080/",
     "height": 1000
    },
    "executionInfo": {
     "elapsed": 9091,
     "status": "ok",
     "timestamp": 1699265411451,
     "user": {
      "displayName": "Sergey Korpachev",
      "userId": "09181340988160569540"
     },
     "user_tz": -180
    },
    "id": "fiVcWdgg32_e",
    "outputId": "839a08ac-0a17-409a-96da-48d8f4947f5e"
   },
   "outputs": [],
   "source": [
    "fig, ax = plt.subplots(nrows=3, ncols=3, figsize=(15, 12))\n",
    "\n",
    "for i, max_depth in enumerate([3, 5, None]):\n",
    "    for j, min_samples_leaf in enumerate([1, 5, 15]):\n",
    "        dt = DecisionTreeClassifier(max_depth=max_depth, min_samples_leaf=min_samples_leaf, random_state=13)\n",
    "        dt.fit(X, y)\n",
    "        ax[i][j].set_title(\"max_depth = {} | min_samples_leaf = {}\".format(max_depth, min_samples_leaf))\n",
    "        ax[i][j].axis(\"off\")\n",
    "        plot_decision_regions(X, y, dt, ax=ax[i][j])\n",
    "\n",
    "plt.show()"
   ]
  },
  {
   "cell_type": "markdown",
   "metadata": {
    "id": "FC4SbtDo32_f"
   },
   "source": [
    "На любой выборке (исключая те, где есть объекты с одинаковыми значениями признаков, но разными ответами) можно получить нулевую ошибку - с помощью максимально переобученного дерева:"
   ]
  },
  {
   "cell_type": "code",
   "execution_count": null,
   "metadata": {
    "colab": {
     "base_uri": "https://localhost:8080/",
     "height": 599
    },
    "executionInfo": {
     "elapsed": 581,
     "status": "ok",
     "timestamp": 1699265412021,
     "user": {
      "displayName": "Sergey Korpachev",
      "userId": "09181340988160569540"
     },
     "user_tz": -180
    },
    "id": "dJjQ-yhz32_g",
    "outputId": "4c648690-29d1-4d6e-9068-e69da8c034f6"
   },
   "outputs": [],
   "source": [
    "model = DecisionTreeClassifier(max_depth=None, min_samples_leaf=1, random_state=13)\n",
    "model.fit(X, y)\n",
    "\n",
    "print(f\"Accuracy: {accuracy_score(y, dt.predict(X)):.2f}\")\n",
    "\n",
    "plot_decision_regions(X, y, model)\n",
    "plt.show()"
   ]
  },
  {
   "cell_type": "markdown",
   "metadata": {
    "id": "z9HbtNJd32_h"
   },
   "source": [
    "### Неустойчивость  <a name=\"unstable\"></a>\n",
    "\n",
    "Как будет меняться структура дерева, если брать для обучения разные 90%-ые подвыборки из исходной?"
   ]
  },
  {
   "cell_type": "code",
   "execution_count": null,
   "metadata": {
    "colab": {
     "base_uri": "https://localhost:8080/",
     "height": 1000
    },
    "executionInfo": {
     "elapsed": 11624,
     "status": "ok",
     "timestamp": 1699265423637,
     "user": {
      "displayName": "Sergey Korpachev",
      "userId": "09181340988160569540"
     },
     "user_tz": -180
    },
    "id": "9pCx48Nc32_j",
    "outputId": "656b82e1-aaa5-4f1d-e6ce-845074b6a4b9"
   },
   "outputs": [],
   "source": [
    "fig, ax = plt.subplots(nrows=3, ncols=3, figsize=(15, 12))\n",
    "\n",
    "for i in range(3):\n",
    "    for j in range(3):\n",
    "        seed_idx = 3 * i + j\n",
    "        np.random.seed(seed_idx)\n",
    "        dt = DecisionTreeClassifier(random_state=13)\n",
    "        idx_part = np.random.choice(len(X), replace=False, size=int(0.9 * len(X)))\n",
    "        X_part, y_part = X[idx_part, :], y[idx_part]\n",
    "        dt.fit(X_part, y_part)\n",
    "        ax[i][j].set_title(\"sample #{}\".format(seed_idx))\n",
    "        ax[i][j].axis(\"off\")\n",
    "        plot_decision_regions(X_part, y_part, dt, ax=ax[i][j])\n",
    "\n",
    "plt.show()"
   ]
  },
  {
   "cell_type": "markdown",
   "metadata": {
    "id": "XKQC9WPr32_k"
   },
   "source": [
    "### Датасет  <a name=\"dataset\"></a>\n",
    "\n",
    "Построим решающее дерево для какого-нибудь набора данных."
   ]
  },
  {
   "cell_type": "code",
   "execution_count": null,
   "metadata": {
    "executionInfo": {
     "elapsed": 13,
     "status": "ok",
     "timestamp": 1699265423637,
     "user": {
      "displayName": "Sergey Korpachev",
      "userId": "09181340988160569540"
     },
     "user_tz": -180
    },
    "id": "Tx7UwTql8fbn"
   },
   "outputs": [],
   "source": [
    "# `load_boston` has been removed from scikit-learn since version 1.2.\n",
    "\n",
    "#from sklearn.datasets import load_boston\n",
    "#boston = load_boston()\n",
    "#print(boston[\"DESCR\"])\n",
    "\n",
    "#X = pd.DataFrame(data=boston[\"data\"], columns=boston[\"feature_names\"])\n",
    "#y = boston[\"target\"]"
   ]
  },
  {
   "cell_type": "code",
   "execution_count": null,
   "metadata": {
    "executionInfo": {
     "elapsed": 12,
     "status": "ok",
     "timestamp": 1699265423638,
     "user": {
      "displayName": "Sergey Korpachev",
      "userId": "09181340988160569540"
     },
     "user_tz": -180
    },
    "id": "RFqb11RQ8ffE"
   },
   "outputs": [],
   "source": [
    "# !wget -i https://github.com/scikit-learn/scikit-learn/blob/main/sklearn/datasets/data/boston_house_prices.csv\n",
    "#data_git = pd.read_csv('boston_house_prices.csv', sep=\"\\s+\")"
   ]
  },
  {
   "cell_type": "markdown",
   "metadata": {
    "id": "vGYnv8wU8zC5"
   },
   "source": [
    "**Data Set Characteristics:**  \n",
    "\n",
    "    :Number of Instances: 506\n",
    "\n",
    "    :Number of Attributes: 13 numeric/categorical predictive. Median Value (attribute 14) is usually the target.\n",
    "\n",
    "    :Attribute Information (in order):\n",
    "        - CRIM     per capita crime rate by town\n",
    "        - ZN       proportion of residential land zoned for lots over 25,000 sq.ft.\n",
    "        - INDUS    proportion of non-retail business acres per town\n",
    "        - CHAS     Charles River dummy variable (= 1 if tract bounds river; 0 otherwise)\n",
    "        - NOX      nitric oxides concentration (parts per 10 million)\n",
    "        - RM       average number of rooms per dwelling\n",
    "        - AGE      proportion of owner-occupied units built prior to 1940\n",
    "        - DIS      weighted distances to five Boston employment centres\n",
    "        - RAD      index of accessibility to radial highways\n",
    "        - TAX      full-value property-tax rate per $10,000\n",
    "        - PTRATIO  pupil-teacher ratio by town\n",
    "        - B        1000(Bk - 0.63)^2 where Bk is the proportion of blacks by town\n",
    "        - LSTAT    % lower status of the population\n",
    "        - MEDV     Median value of owner-occupied homes in $1000's\n",
    "\n",
    "    :Missing Attribute Values: None\n",
    "\n",
    "    :Creator: Harrison, D. and Rubinfeld, D.L.\n",
    "\n",
    "This is a copy of UCI ML housing dataset.\n",
    "https://archive.ics.uci.edu/ml/machine-learning-databases/housing/\n",
    "\n",
    "This dataset was taken from the StatLib library which is maintained at Carnegie Mellon University.\n",
    "\n",
    "The Boston house-price data of Harrison, D. and Rubinfeld, D.L. 'Hedonic\n",
    "prices and the demand for clean air', J. Environ. Economics & Management,\n",
    "vol.5, 81-102, 1978.   Used in Belsley, Kuh & Welsch, 'Regression diagnostics\n",
    "...', Wiley, 1980.   N.B. Various transformations are used in the table on\n",
    "pages 244-261 of the latter.\n",
    "\n",
    "The Boston house-price data has been used in many machine learning papers that address regression\n",
    "problems.   \n",
    "     \n",
    ".. topic:: References\n",
    "\n",
    "   - Belsley, Kuh & Welsch, 'Regression diagnostics: Identifying Influential Data and Sources of Collinearity', Wiley, 1980. 244-261.\n",
    "   - Quinlan,R. (1993). Combining Instance-Based and Model-Based Learning. In Proceedings on the Tenth International Conference of Machine Learning, 236-243, University of Massachusetts, Amherst. Morgan Kaufmann.\n",
    "\n"
   ]
  },
  {
   "cell_type": "code",
   "execution_count": null,
   "metadata": {
    "executionInfo": {
     "elapsed": 11,
     "status": "ok",
     "timestamp": 1699265423638,
     "user": {
      "displayName": "Sergey Korpachev",
      "userId": "09181340988160569540"
     },
     "user_tz": -180
    },
    "id": "E9qPgxoZ32_k"
   },
   "outputs": [],
   "source": [
    "data_url = \"http://lib.stat.cmu.edu/datasets/boston\"\n",
    "raw_df = pd.read_csv(data_url, sep=\"\\s+\", skiprows=22, header=None)\n",
    "data = np.hstack([raw_df.values[::2, :], raw_df.values[1::2, :2]])\n",
    "target = raw_df.values[1::2, 2]"
   ]
  },
  {
   "cell_type": "code",
   "execution_count": null,
   "metadata": {
    "executionInfo": {
     "elapsed": 10,
     "status": "ok",
     "timestamp": 1699265423638,
     "user": {
      "displayName": "Sergey Korpachev",
      "userId": "09181340988160569540"
     },
     "user_tz": -180
    },
    "id": "8eXsIGSCEbtl"
   },
   "outputs": [],
   "source": [
    "feature_names = ['CRIM', 'ZN', 'INDUS', 'CHAS', 'NOX', 'RM', 'AGE', 'DIS', 'RAD', 'TAX', 'PTRATIO', 'B', 'LSTAT']\n",
    "\n",
    "X = pd.DataFrame(data, columns=feature_names, index=range(len(data)))\n",
    "y = pd.DataFrame(target, columns=['MEDV'], index=range(len(target)))"
   ]
  },
  {
   "cell_type": "code",
   "execution_count": null,
   "metadata": {
    "colab": {
     "base_uri": "https://localhost:8080/",
     "height": 245
    },
    "executionInfo": {
     "elapsed": 10,
     "status": "ok",
     "timestamp": 1699265423638,
     "user": {
      "displayName": "Sergey Korpachev",
      "userId": "09181340988160569540"
     },
     "user_tz": -180
    },
    "id": "A24lEmpU32_l",
    "outputId": "aa141e81-4de0-4be2-d063-1e0aa888b5b8"
   },
   "outputs": [],
   "source": [
    "X_train, X_test, y_train, y_test = train_test_split(X, y, test_size=0.25, random_state=13)\n",
    "\n",
    "print(f\"Shape: {X.shape}\")\n",
    "X.head()"
   ]
  },
  {
   "cell_type": "code",
   "execution_count": null,
   "metadata": {
    "colab": {
     "base_uri": "https://localhost:8080/",
     "height": 557
    },
    "executionInfo": {
     "elapsed": 1833,
     "status": "ok",
     "timestamp": 1699265425464,
     "user": {
      "displayName": "Sergey Korpachev",
      "userId": "09181340988160569540"
     },
     "user_tz": -180
    },
    "id": "VyYutbft32_m",
    "outputId": "e910c0fd-3310-48d0-cfe2-4aa293760e50"
   },
   "outputs": [],
   "source": [
    "tree = DecisionTreeRegressor(max_depth=3, random_state=13)\n",
    "tree.fit(X_train, y_train)\n",
    "\n",
    "plot_tree(tree, feature_names=list(X.columns), filled=True, rounded=True)\n",
    "plt.show()"
   ]
  },
  {
   "cell_type": "code",
   "execution_count": null,
   "metadata": {
    "colab": {
     "base_uri": "https://localhost:8080/"
    },
    "executionInfo": {
     "elapsed": 6,
     "status": "ok",
     "timestamp": 1699265425464,
     "user": {
      "displayName": "Sergey Korpachev",
      "userId": "09181340988160569540"
     },
     "user_tz": -180
    },
    "id": "QdLT8FrO32_n",
    "outputId": "22bd3c9d-b887-440e-d96c-97dce17dd3a0"
   },
   "outputs": [],
   "source": [
    "round(mean_squared_error(y_test, tree.predict(X_test)), 1)"
   ]
  },
  {
   "cell_type": "code",
   "execution_count": null,
   "metadata": {
    "colab": {
     "base_uri": "https://localhost:8080/",
     "height": 624
    },
    "executionInfo": {
     "elapsed": 529,
     "status": "ok",
     "timestamp": 1699265425989,
     "user": {
      "displayName": "Sergey Korpachev",
      "userId": "09181340988160569540"
     },
     "user_tz": -180
    },
    "id": "qfhMGFCs32_p",
    "outputId": "f30fa205-0ba1-4f9d-856f-674adb2d1b9c"
   },
   "outputs": [],
   "source": [
    "max_depth_array = range(2, 20)\n",
    "mse_array = []\n",
    "\n",
    "for max_depth in max_depth_array:\n",
    "    tree = DecisionTreeRegressor(max_depth=max_depth, random_state=13)\n",
    "    tree.fit(X_train, y_train)\n",
    "    mse_array.append(mean_squared_error(y_test, tree.predict(X_test)))\n",
    "\n",
    "plt.plot(max_depth_array, mse_array)\n",
    "plt.title(\"Dependence of MSE on max depth\")\n",
    "plt.xlabel(\"max depth\")\n",
    "plt.ylabel(\"MSE\")\n",
    "plt.show()"
   ]
  },
  {
   "cell_type": "code",
   "execution_count": null,
   "metadata": {
    "colab": {
     "base_uri": "https://localhost:8080/",
     "height": 228
    },
    "executionInfo": {
     "elapsed": 17,
     "status": "ok",
     "timestamp": 1699265425989,
     "user": {
      "displayName": "Sergey Korpachev",
      "userId": "09181340988160569540"
     },
     "user_tz": -180
    },
    "id": "toQz1P9c32_r",
    "outputId": "85eebb81-35d0-49ab-8164-60d40107b775"
   },
   "outputs": [],
   "source": [
    "pd.DataFrame({\"max_depth\": max_depth_array,\"MSE\": mse_array}).sort_values(by=\"MSE\").reset_index(drop=True)[:5]"
   ]
  },
  {
   "cell_type": "code",
   "execution_count": null,
   "metadata": {
    "colab": {
     "base_uri": "https://localhost:8080/",
     "height": 624
    },
    "executionInfo": {
     "elapsed": 1071,
     "status": "ok",
     "timestamp": 1699265427052,
     "user": {
      "displayName": "Sergey Korpachev",
      "userId": "09181340988160569540"
     },
     "user_tz": -180
    },
    "id": "ro45BHtw32_t",
    "outputId": "17bc3248-6757-448b-a7b7-4fe28828fb26"
   },
   "outputs": [],
   "source": [
    "min_samples_leaf_array = range(1, 20)\n",
    "mse_array = []\n",
    "\n",
    "for min_samples_leaf in min_samples_leaf_array:\n",
    "    dt = DecisionTreeRegressor(max_depth=6, min_samples_leaf=min_samples_leaf, random_state=13)\n",
    "    dt.fit(X_train, y_train)\n",
    "    mse_array.append(mean_squared_error(y_test, dt.predict(X_test)))\n",
    "\n",
    "plt.plot(min_samples_leaf_array, mse_array)\n",
    "plt.title(\"Dependence of MSE on min samples leaf\")\n",
    "plt.xlabel(\"min samples leaf\")\n",
    "plt.ylabel(\"MSE\")\n",
    "plt.show()"
   ]
  },
  {
   "cell_type": "code",
   "execution_count": null,
   "metadata": {
    "colab": {
     "base_uri": "https://localhost:8080/",
     "height": 228
    },
    "executionInfo": {
     "elapsed": 10,
     "status": "ok",
     "timestamp": 1699265427052,
     "user": {
      "displayName": "Sergey Korpachev",
      "userId": "09181340988160569540"
     },
     "user_tz": -180
    },
    "id": "DLPm-B6O32_v",
    "outputId": "c63a0be2-a93f-4aaa-b952-38a1390ddf35"
   },
   "outputs": [],
   "source": [
    "pd.DataFrame({\"min_samples_leaf\": min_samples_leaf_array,\"MSE\": mse_array}).sort_values(by=\"MSE\").reset_index(drop=True)[:5]"
   ]
  },
  {
   "cell_type": "markdown",
   "metadata": {
    "id": "QydDrf2Y32_y"
   },
   "source": [
    "## Бонус: решающее дерево своими руками"
   ]
  },
  {
   "cell_type": "markdown",
   "metadata": {
    "id": "7rFxacZh32_z"
   },
   "source": [
    "$R_m$ - множество объектов в разбиваемой вершине, $j$ - номер признака, по которому происходит разбиение, $t$ - порог разбиения.\n",
    "\n",
    "Критерий ошибки:\n",
    "\n",
    "$$\n",
    "Q(R_m, j, t) = \\frac{|R_\\ell|}{|R_m|}H(R_\\ell) + \\frac{|R_r|}{|R_m|}H(R_r) \\to \\min_{j, t}\n",
    "$$\n",
    "\n",
    "$R_\\ell$ - множество объектов в левом поддереве, $R_r$ - множество объектов в правом поддереве.\n",
    "\n",
    "$H(R)$ - критерий информативности, с помощью которого можно оценить качество распределения целевой переменной среди объектов множества $R$.\n",
    "\n",
    "_Реализуйте подсчет критерия ошибки. Для этого реализуйте функции для подсчета значения критерия информативности, а также для разбиения вершины._"
   ]
  },
  {
   "cell_type": "code",
   "execution_count": null,
   "metadata": {
    "executionInfo": {
     "elapsed": 9,
     "status": "ok",
     "timestamp": 1699265427053,
     "user": {
      "displayName": "Sergey Korpachev",
      "userId": "09181340988160569540"
     },
     "user_tz": -180
    },
    "id": "3INq_xUF32_0"
   },
   "outputs": [],
   "source": [
    "#boston = load_boston()\n",
    "#X = pd.DataFrame(data=boston[\"data\"], columns=boston[\"feature_names\"])\n",
    "#X[\"target\"] = boston[\"target\"]\n",
    "\n",
    "feature_names = ['CRIM', 'ZN', 'INDUS', 'CHAS', 'NOX', 'RM', 'AGE', 'DIS', 'RAD', 'TAX', 'PTRATIO', 'B', 'LSTAT']\n",
    "X = pd.DataFrame(data, columns=feature_names, index=range(len(data)))\n",
    "y = pd.DataFrame(target, columns=['MEDV'], index=range(len(target)))\n",
    "X['target'] = y\n",
    "\n",
    "X_train, X_test = train_test_split(X, test_size=0.25, random_state=13)"
   ]
  },
  {
   "cell_type": "code",
   "execution_count": null,
   "metadata": {
    "executionInfo": {
     "elapsed": 8,
     "status": "ok",
     "timestamp": 1699265427053,
     "user": {
      "displayName": "Sergey Korpachev",
      "userId": "09181340988160569540"
     },
     "user_tz": -180
    },
    "id": "MPdrxZfZ32_1"
   },
   "outputs": [],
   "source": [
    "from typing import Iterable, List, Tuple\n",
    "\n",
    "def H(R: pd.DataFrame) -> float:\n",
    "    \"\"\"\n",
    "    Compute impurity criterion for a fixed set of objects R.\n",
    "    Last column is assumed to contain target value\n",
    "    \"\"\"\n",
    "    return R[\"target\"].var()\n",
    "\n",
    "\n",
    "def split_node(R_m: np.ndarray, feature: str, t: float) -> Tuple[np.ndarray, np.ndarray]:\n",
    "    \"\"\"\n",
    "    Split a fixed set of objects R_m given feature number and threshold t\n",
    "    \"\"\"\n",
    "    mask = R_m[feature] <= t\n",
    "    return R_m.loc[mask], R_m.loc[~mask]\n",
    "\n",
    "\n",
    "def q_error(R_m: np.ndarray, feature: str, t: float) -> float:\n",
    "    \"\"\"\n",
    "    Compute error criterion for given split parameters\n",
    "    \"\"\"\n",
    "    R_l, R_r = split_node(R_m, feature, t)\n",
    "    return len(R_l) / len(R_m) * H(R_l) + len(R_r) / len(R_m) * H(R_r)"
   ]
  },
  {
   "cell_type": "markdown",
   "metadata": {
    "id": "KylHBEpa32_1"
   },
   "source": [
    "_Переберите все возможные разбиения выборки по одному из признаков и постройте график критерия ошибки в зависимости от значения порога._"
   ]
  },
  {
   "cell_type": "code",
   "execution_count": null,
   "metadata": {
    "colab": {
     "base_uri": "https://localhost:8080/",
     "height": 624
    },
    "executionInfo": {
     "elapsed": 1487,
     "status": "ok",
     "timestamp": 1699265428532,
     "user": {
      "displayName": "Sergey Korpachev",
      "userId": "09181340988160569540"
     },
     "user_tz": -180
    },
    "id": "8x2caO0_32_2",
    "outputId": "232871fe-32e5-4768-b4b7-7b1c36226d00"
   },
   "outputs": [],
   "source": [
    "feature = \"LSTAT\"\n",
    "Q_array = []\n",
    "\n",
    "feature_values = np.unique(X_train[feature])\n",
    "for t in feature_values:\n",
    "    Q_array.append(q_error(X_train, feature, t))\n",
    "\n",
    "plt.plot(feature_values, Q_array)\n",
    "plt.title(feature)\n",
    "plt.xlabel(\"threshold\")\n",
    "plt.ylabel(\"Q error\")\n",
    "plt.show()"
   ]
  },
  {
   "cell_type": "markdown",
   "metadata": {
    "id": "J4wLUUsy32_4"
   },
   "source": [
    "_Напишите функцию, находящую оптимальное разбиение данной вершины по данному признаку._"
   ]
  },
  {
   "cell_type": "code",
   "execution_count": null,
   "metadata": {
    "executionInfo": {
     "elapsed": 13,
     "status": "ok",
     "timestamp": 1699265428534,
     "user": {
      "displayName": "Sergey Korpachev",
      "userId": "09181340988160569540"
     },
     "user_tz": -180
    },
    "id": "FtyKdVJo32_5"
   },
   "outputs": [],
   "source": [
    "def get_optimal_split(R_m: np.array, feature: str) -> Tuple[float, List[float]]:\n",
    "    Q_array = []\n",
    "    feature_values = np.unique(R_m[feature])\n",
    "\n",
    "    for t in feature_values:\n",
    "        Q_array.append(q_error(R_m, feature, t))\n",
    "\n",
    "    Q_array = np.nan_to_num(Q_array, nan=float(\"+inf\"))\n",
    "\n",
    "    opt_threshold = feature_values[np.argmin(Q_array)]\n",
    "\n",
    "    return opt_threshold, Q_array"
   ]
  },
  {
   "cell_type": "code",
   "execution_count": null,
   "metadata": {
    "colab": {
     "base_uri": "https://localhost:8080/",
     "height": 624
    },
    "executionInfo": {
     "elapsed": 2790,
     "status": "ok",
     "timestamp": 1699265431312,
     "user": {
      "displayName": "Sergey Korpachev",
      "userId": "09181340988160569540"
     },
     "user_tz": -180
    },
    "id": "8dH7yLps32_6",
    "outputId": "c0a982d5-c5fe-475f-b8c9-25ef126f9837"
   },
   "outputs": [],
   "source": [
    "t, Q_array = get_optimal_split(X_train, feature)\n",
    "plt.plot(np.unique(X_train[feature]), Q_array)\n",
    "plt.title(feature)\n",
    "plt.xlabel(\"threshold\")\n",
    "plt.ylabel(\"Q error\")\n",
    "plt.axvline(x=t)\n",
    "plt.show()"
   ]
  },
  {
   "cell_type": "markdown",
   "metadata": {
    "id": "MmpS1AIR32_8"
   },
   "source": [
    "_Постройте графики критерия ошибки (в зависимости от количества объектов в левом поддереве) для каждого из признаков. Найдите признак, показывающий наилучшее качество. Какой это признак? Каков порог разбиения и значение качества? Постройте график критерия ошибки для данного признака в зависимости от значения порога._"
   ]
  },
  {
   "cell_type": "code",
   "execution_count": null,
   "metadata": {
    "colab": {
     "base_uri": "https://localhost:8080/",
     "height": 1000
    },
    "executionInfo": {
     "elapsed": 7025,
     "status": "ok",
     "timestamp": 1699265438333,
     "user": {
      "displayName": "Sergey Korpachev",
      "userId": "09181340988160569540"
     },
     "user_tz": -180
    },
    "id": "J2uwRRuQ32_8",
    "outputId": "e057b0c8-d3b2-472b-ab20-05bc5440c833"
   },
   "outputs": [],
   "source": [
    "results = []\n",
    "\n",
    "for f in X_train.columns:\n",
    "    t, Q_array = get_optimal_split(X_train, f)\n",
    "    min_error = min(Q_array)\n",
    "    results.append((f, t, min_error))\n",
    "    plt.figure()\n",
    "    plt.title(\"Feature: {} | optimal t: {} | min Q error: {:.2f}\".format(f, t, min_error))\n",
    "    plt.plot(np.unique(X_train[f]), Q_array)\n",
    "    plt.show()\n",
    "\n",
    "results = sorted(results, key=lambda x: x[2])\n",
    "results"
   ]
  },
  {
   "cell_type": "code",
   "execution_count": null,
   "metadata": {
    "colab": {
     "base_uri": "https://localhost:8080/",
     "height": 512
    },
    "executionInfo": {
     "elapsed": 31,
     "status": "ok",
     "timestamp": 1699265438333,
     "user": {
      "displayName": "Sergey Korpachev",
      "userId": "09181340988160569540"
     },
     "user_tz": -180
    },
    "id": "6aKCof7Z32_-",
    "outputId": "4ed38309-8b2d-4c54-f8cb-38818851d814"
   },
   "outputs": [],
   "source": [
    "pd.DataFrame(results, columns=[\"feature\", \"optimal t\", \"min Q error\"])"
   ]
  },
  {
   "cell_type": "code",
   "execution_count": null,
   "metadata": {
    "executionInfo": {
     "elapsed": 28,
     "status": "ok",
     "timestamp": 1699265438334,
     "user": {
      "displayName": "Sergey Korpachev",
      "userId": "09181340988160569540"
     },
     "user_tz": -180
    },
    "id": "W4sAM_yI32__"
   },
   "outputs": [],
   "source": [
    "optimal_feature, optimal_t, optimal_error = results[1]"
   ]
  },
  {
   "cell_type": "code",
   "execution_count": null,
   "metadata": {
    "colab": {
     "base_uri": "https://localhost:8080/"
    },
    "executionInfo": {
     "elapsed": 25,
     "status": "ok",
     "timestamp": 1699265438334,
     "user": {
      "displayName": "Sergey Korpachev",
      "userId": "09181340988160569540"
     },
     "user_tz": -180
    },
    "id": "uzi_k4si33AA",
    "outputId": "9d3158fd-02de-4e34-af2d-5274638c7fc0"
   },
   "outputs": [],
   "source": [
    "print(optimal_feature)\n",
    "print(optimal_t)\n",
    "print(optimal_error)"
   ]
  },
  {
   "cell_type": "markdown",
   "metadata": {
    "id": "rbBiPoiZ33AB"
   },
   "source": [
    "_Изобразите разбиение визуально. Для этого постройте диаграмму рассеяния целевой переменной в зависимости от значения найденного признака. Далее изобразите вертикальную линию, соответствующую порогу разбиения. Почему это разбиение может быть лучшим? Как вы можете интерпретировать результат?_"
   ]
  },
  {
   "cell_type": "code",
   "execution_count": null,
   "metadata": {
    "colab": {
     "base_uri": "https://localhost:8080/",
     "height": 624
    },
    "executionInfo": {
     "elapsed": 598,
     "status": "ok",
     "timestamp": 1699265438924,
     "user": {
      "displayName": "Sergey Korpachev",
      "userId": "09181340988160569540"
     },
     "user_tz": -180
    },
    "id": "pBtW54n933AB",
    "outputId": "6cf06506-2cdd-4a45-8b6b-38aabb459dbe"
   },
   "outputs": [],
   "source": [
    "plt.scatter(X[optimal_feature], y)\n",
    "plt.axvline(x=optimal_t, color=\"red\")\n",
    "plt.xlabel(optimal_feature)\n",
    "plt.ylabel(\"target\")\n",
    "plt.title(\"Feature: {} | optimal t: {} | Q error: {:.2f}\".format(optimal_feature, optimal_t, optimal_error))\n",
    "plt.show()"
   ]
  },
  {
   "cell_type": "markdown",
   "metadata": {
    "id": "H-KAH_2d33AC"
   },
   "source": [
    "## Бонус\n",
    "\n",
    "Здесь можно посмотреть, как работает стрижка (cost-complexity pruning) для снижения переобучения деревьев: [ноутбук](https://colab.research.google.com/drive/1SGGaIGgo1wOsvBdPfiBb0128emHnu3Oo?usp=sharing)."
   ]
  }
 ],
 "metadata": {
  "colab": {
   "provenance": []
  },
  "kernelspec": {
   "display_name": "Python 3",
   "language": "python",
   "name": "python3"
  },
  "language_info": {
   "codemirror_mode": {
    "name": "ipython",
    "version": 3
   },
   "file_extension": ".py",
   "mimetype": "text/x-python",
   "name": "python",
   "nbconvert_exporter": "python",
   "pygments_lexer": "ipython3",
   "version": "3.8.10"
  }
 },
 "nbformat": 4,
 "nbformat_minor": 1
}
